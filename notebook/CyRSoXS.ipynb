{
 "cells": [
  {
   "cell_type": "markdown",
   "metadata": {},
   "source": [
    "# Python interface for Cy-RSoXS"
   ]
  },
  {
   "cell_type": "markdown",
   "metadata": {},
   "source": [
    " - Copyright @ Iowa State University\n",
    " - Distributed freely under MIT license.\n",
    " - Current Version = 0.9.0\n",
    " - Comments/Questions :    \n",
    "        1. Dr. Baskar GanapathySubramanian (baskarg@iastate.edu)     \n",
    "        2. Dr. Adarsh Krishnamurthy        (adarsh@iastate.edu)                                 \n",
    " "
   ]
  },
  {
   "cell_type": "markdown",
   "metadata": {},
   "source": [
    "## Notebook Dependencies\n",
    "\n",
    "The notebook has following dependencies:\n",
    "\n",
    "- python3 (Version >= 3.6)\n",
    "- numpy\n",
    "- pandas\n",
    "- h5py (For HDF related utilities)\n"
   ]
  },
  {
   "cell_type": "markdown",
   "metadata": {},
   "source": [
    "# Running the notebook\n",
    "\n",
    "In order to run this notebook tutorial, you need to copy the following files in your current directory from the Cy-RSoXS directory:\n",
    "* OpticalConstants/PEOlig2018.txt\n",
    "* Data/edgeSphereZYX.hd5"
   ]
  },
  {
   "cell_type": "markdown",
   "metadata": {},
   "source": [
    "## Interface Overview:\n",
    "\n",
    "The following input are required to run the Cy-RSoXS:\n",
    "\n",
    "- Input Data parameters.\n",
    "- Optical constants data at different energies calculate the refractive index.\n",
    "- The morphology data."
   ]
  },
  {
   "cell_type": "markdown",
   "metadata": {},
   "source": [
    "### Preprocessing Step 0: Import the path to the library.\n",
    "You should have `CyRSoXS.so` located in the directory"
   ]
  },
  {
   "cell_type": "code",
   "execution_count": null,
   "metadata": {},
   "outputs": [],
   "source": [
    "import sys\n",
    "sys.path.append(\"/home/maksbh/Documents/work/cy-rsoxs/cmake-build-debug\") "
   ]
  },
  {
   "cell_type": "code",
   "execution_count": null,
   "metadata": {},
   "outputs": [],
   "source": [
    "# import the relevant modules\n",
    "import h5py\n",
    "import CyRSoXS as cy\n",
    "import pandas as pd\n",
    "import numpy as np"
   ]
  },
  {
   "cell_type": "markdown",
   "metadata": {},
   "source": [
    "## Preprocessing Step 2: Computing Optical constants from file\n",
    "\n",
    "* This examples shows a way to read the optical constants from a given file. But it can be done according to the user demands. The final goal at the end of this step is to return the optical constants for a given Energy as a `list` "
   ]
  },
  {
   "cell_type": "code",
   "execution_count": null,
   "metadata": {},
   "outputs": [],
   "source": [
    "# label for the column for the respective energies.\n",
    "# Note: The column starts from 0    \n",
    "\n",
    "labelEnergy={\"BetaPara\":0,\n",
    "                 \"BetaPerp\":1,\n",
    "                 \"DeltaPara\":2,\n",
    "                 \"DeltaPerp\":3,\n",
    "                 \"Energy\":6}"
   ]
  },
  {
   "cell_type": "code",
   "execution_count": null,
   "metadata": {},
   "outputs": [],
   "source": [
    "def generateDataFrame(filename,labelEnergy,sep='\\s+'):\n",
    "    '''\n",
    "    Returns DataFrame of the Energy\n",
    "     \n",
    "         Parameters:\n",
    "             filename    (String) : The path where the filename is located.\n",
    "             labelEnergy (dict)   : The dict with label Energy for each file.\n",
    "             sep         (String) : Seperator for the file.\n",
    "             \n",
    "        Returns:\n",
    "            A dataframe with columns as the optical constants.\n",
    "    '''\n",
    "    EnergyFile = pd.read_csv(filename,sep)\n",
    "    df = EnergyFile.iloc[: , [labelEnergy[\"DeltaPara\"],\n",
    "                              labelEnergy[\"BetaPara\"],\n",
    "                              labelEnergy[\"DeltaPerp\"],\n",
    "                              labelEnergy[\"BetaPerp\"],\n",
    "                              labelEnergy[\"Energy\"],\n",
    "                              ]].copy() \n",
    "    df.columns=['DeltaPara','BetaPara','DeltaPerp','BetaPerp','Energy']\n",
    "    df.sort_values(by=['Energy'],inplace=True)\n",
    "    df.drop_duplicates(subset=['Energy'],keep=False,ignore_index=True,inplace=True)\n",
    "    return df"
   ]
  },
  {
   "cell_type": "code",
   "execution_count": null,
   "metadata": {},
   "outputs": [],
   "source": [
    " def getInterpolatedValue(df,value):\n",
    "    '''\n",
    "    Returns the linearly interpolated value after removing the duplicates, if any\n",
    "    \n",
    "        Parameters:\n",
    "            df  (DataFrame)      : A dataframe of energies created by generateDataFrame.\n",
    "            value (double/float) : The energy value at which you want to interpolate.\n",
    "        \n",
    "        Returns:\n",
    "            A list of interpolated optical properties for the given energy. \n",
    "    '''\n",
    "    energy_id = 4\n",
    "    nearest_id = df['Energy'].sub(value).abs().idxmin()\n",
    "    numColumns = len(df.columns)\n",
    "    valArray = np.zeros(numColumns);\n",
    "    if(df.iloc[nearest_id][energy_id] > value):\n",
    "        xp = [df.iloc[nearest_id - 1][energy_id], df.iloc[nearest_id ][energy_id]];\n",
    "        for i in range(0,numColumns):\n",
    "            yp = [df.iloc[nearest_id - 1][i], df.iloc[nearest_id][i]];\n",
    "            valArray[i] = np.interp(value,xp,yp);\n",
    "\n",
    "    elif (df.iloc[nearest_id][energy_id] < value):\n",
    "        xp = [df.iloc[nearest_id][energy_id], df.iloc[nearest_id + 1][energy_id]];\n",
    "        for i in range(0,numColumns):\n",
    "            yp = [df.iloc[nearest_id][i], df.iloc[nearest_id + 1][i]];\n",
    "            valArray[i] = np.interp(value,xp,yp);\n",
    "\n",
    "    else:\n",
    "        for i in range(0,numColumns):\n",
    "            valArray[i] = df.iloc[nearest_id][i];\n",
    "            \n",
    "    return valArray[0:4].tolist();\n"
   ]
  },
  {
   "cell_type": "code",
   "execution_count": null,
   "metadata": {},
   "outputs": [],
   "source": [
    "# Generating dataFrame for the text file.\n",
    "filename='PEOlig2018.txt'\n",
    "df=generateDataFrame(filename,labelEnergy)"
   ]
  },
  {
   "cell_type": "markdown",
   "metadata": {},
   "source": [
    "# Step 1 : Providing Input Data Parameters\n",
    "\n",
    "The Input Data for `Cy-RSoXS` has the following mandatory inputs:\n",
    "- Case Type : Default / Beam Divergence / Grazing Incidence\n",
    "- The set of energies you want to run.\n",
    "- The dimensions and the morphology order (XYZ or ZYX). Morphology order should correspond to the shape of the 3D array\n",
    "- The PhysSize (in nm)\n",
    "- The rotation Angle that you want to rotate the electric field\n",
    "\n",
    "Failuare to provide any one of the input will flag an error and the code will not launch.\n",
    "\n",
    "Additionally, there are optional input parameters for `Cy-RSoXS` as:\n",
    "- The interpolation used : Nearest Neighbour or Trilinear interpolation (Default: Trilinear)\n",
    "- Number of OpenMP threads: The minimum number of thread should be equal to number of GPU. (Deafult : 1)\n",
    "- Windowing Type for FFT: Hanning or None\n",
    "- AlgorithmID and MaxStreams to use \n",
    "- Number of OpenMP threads"
   ]
  },
  {
   "cell_type": "code",
   "execution_count": null,
   "metadata": {},
   "outputs": [],
   "source": [
    "inputData = cy.InputData() # Create a object for Input Data"
   ]
  },
  {
   "cell_type": "code",
   "execution_count": null,
   "metadata": {},
   "outputs": [],
   "source": [
    "#Required dependecies:\n",
    "inputData.setCaseType(cy.CaseType.Default)\n",
    "energyList = [280.0,281.5,281.0]\n",
    "inputData.setEnergies(energyList) \n",
    "inputData.setERotationAngle(StartAngle = 0,EndAngle = 180,IncrementAngle = 2.0)\n",
    "inputData.setDimensions([16,32,32],cy.MorphologyOrder.ZYX)\n",
    "inputData.setMorphologyType(cy.MorphologyType.VectorMorphology)\n",
    "inputData.setPhysSize(5.0) # in nm"
   ]
  },
  {
   "cell_type": "code",
   "execution_count": null,
   "metadata": {},
   "outputs": [],
   "source": [
    "#Optional dependencies\n",
    "inputData.interpolationType = cy.InterpolationType.Linear\n",
    "inputData.windowingType = cy.FFTWindowing.NoPadding\n",
    "inputData.scatterApproach = cy.ScatterApproach.Partial\n",
    "inputData.setAlgorithm(AlgorithmID = 0,MaxStreams = 1)"
   ]
  },
  {
   "cell_type": "code",
   "execution_count": null,
   "metadata": {},
   "outputs": [],
   "source": [
    "inputData.validate() # Validate input Data. True means all required dependencies are present."
   ]
  },
  {
   "cell_type": "code",
   "execution_count": null,
   "metadata": {},
   "outputs": [],
   "source": [
    "inputData.print() # Check the input values"
   ]
  },
  {
   "cell_type": "markdown",
   "metadata": {},
   "source": [
    "# Step 2 : Providing Refractive Index Constants "
   ]
  },
  {
   "cell_type": "markdown",
   "metadata": {},
   "source": [
    "The refractive index is passed in the form of `list` from python to Cy-RSoXS.\n",
    "- The list is of the size (NumMaterial $\\times$ 4)\n",
    "- The list eneteries for each material must be in the order of [$\\delta_{\\parallel}$,$\\beta_{\\parallel}$, $\\delta_{\\perp}$, $\\beta_{\\perp}$]"
   ]
  },
  {
   "cell_type": "code",
   "execution_count": null,
   "metadata": {},
   "outputs": [],
   "source": [
    "refractiveIndex = cy.RefractiveIndex(inputData)"
   ]
  },
  {
   "cell_type": "code",
   "execution_count": null,
   "metadata": {},
   "outputs": [],
   "source": [
    "for energy in energyList:\n",
    "    val = [getInterpolatedValue(df,energy),getInterpolatedValue(df,energy)]\n",
    "    refractiveIndex.addData(OpticalConstants = val,Energy=energy)"
   ]
  },
  {
   "cell_type": "code",
   "execution_count": null,
   "metadata": {},
   "outputs": [],
   "source": [
    "refractiveIndex.print() # Print the value to verify if its correct"
   ]
  },
  {
   "cell_type": "code",
   "execution_count": null,
   "metadata": {},
   "outputs": [],
   "source": [
    "refractiveIndex.validate()"
   ]
  },
  {
   "cell_type": "markdown",
   "metadata": {},
   "source": [
    "Key points for voxel data\n",
    "-------------------------\n",
    "- $Z$ axis corresponds to the thickness of the material\n",
    "- $\\vec{k} = (0,0,k)$  \n",
    "- $\\vec{E}$ field is rotated in $XY$ plane , $E_z = 0$"
   ]
  },
  {
   "cell_type": "markdown",
   "metadata": {},
   "source": [
    "# Step 3 : Providing Voxel data\n",
    "\n",
    "The voxel data can be passed in 2 ways:\n",
    "- Euler Angles    $\\;\\;\\;\\;\\;\\;\\;\\;\\;$      $\\texttt{(cy.MorphologyType.EulerAngles) }$\n",
    "- Vector morphology   $\\;\\;$  $\\texttt{(cy.MorphologyType.VectorMorphology)}$\n",
    "\n",
    "\n",
    "## Vector Morphology\n",
    "The Voxel data comprises of 2 component defined for each material :\n",
    "- Aligned component   : A vector $(s_x,s_y,s_z)$ with alignment direction parallel to $z$ direction.\n",
    "- Unaligned component : A scalar component\n",
    "\n",
    "\n",
    "\n",
    "## Euler Angles \n",
    "The Voxel data comprises of 4 component defined for each material :\n",
    "- S          : The degree of alignment \n",
    "- $\\theta$   : First rotation : The rotation about X - axis by angle $\\theta$\n",
    "- $\\psi$     : Second rotation : The rotation about Z - axis by angle $\\psi$\n",
    "- Vfrac      : The volume Fraction of a given material\n",
    "\n",
    "Refer manual for details on Morphology description\n",
    "\n",
    "There are two ways of providing the voxelData:\n",
    "- Directly from HDF5 file.\n",
    "- From numpy arrays.\n",
    "\n",
    "These approaches are mutually exclusive. They can not be combined\n"
   ]
  },
  {
   "cell_type": "code",
   "execution_count": null,
   "metadata": {},
   "outputs": [],
   "source": [
    "voxelData = cy.VoxelData(InputData = inputData) #Create an object for Voxel Data"
   ]
  },
  {
   "cell_type": "markdown",
   "metadata": {},
   "source": [
    "### Approach 1 : Through HDF5 file\n",
    "\n",
    "It is straightforward. Just pass the HDF5 filename. Make sure that the HDF5 morphology is set to the correct type"
   ]
  },
  {
   "cell_type": "code",
   "execution_count": null,
   "metadata": {},
   "outputs": [],
   "source": [
    "voxelData.reset()\n",
    "voxelData.readFromH5(Filename = 'edgeSphereZYX.h5')\n",
    "voxelData.writeToH5()"
   ]
  },
  {
   "cell_type": "code",
   "execution_count": null,
   "metadata": {},
   "outputs": [],
   "source": [
    "voxelData.validate()"
   ]
  },
  {
   "cell_type": "code",
   "execution_count": null,
   "metadata": {},
   "outputs": [],
   "source": []
  },
  {
   "cell_type": "markdown",
   "metadata": {},
   "source": [
    "### Approach 2 :  Through numpy arrays\n",
    "\n",
    "Make use of function `addVoxelData` to pass the numpy arrays.\n",
    "\n",
    "There are two different syntax to pass through numpy arrays depending on the morphology type. \n",
    "\n",
    "- For VectorMorphology:\n",
    "```\n",
    "voxelData.addVoxelData(AlignedData=Mat_1_alignment,UnalignedData=Mat_1_unaligned,MaterialID=1)\n",
    "voxelData.addVoxelData(AlignedData=Mat_2_alignment,UnalignedData=Mat_2_unaligned,MaterialID=2)\n",
    "```\n",
    "- For Euler Angles \n",
    "```\n",
    "voxelData.addVoxelData(S=Mat_1_S,Theta=Mat_1_Theta,Psi=Mat_1_Psi,Vfrac=Mat_1_vfrac,MaterialID=1)\n",
    "voxelData.addVoxelData(S=Mat_2_S,Theta=Mat_2_Theta,Psi=Mat_2_Psi,Vfrac=Mat_2_vfrac,MaterialID=2)\n",
    "```\n",
    "\n",
    "If all alignment components are zero, one can add directly as:\n",
    "```\n",
    "voxelData.addVoxelData(Vfrac=Mat_1_vfrac,MaterialID=1)\n",
    "voxelData.addVoxelData(Vfrac=Mat_2_vfrac,MaterialID=2)\n",
    "```\n",
    "\n",
    "Remark 1: The code creates the copy of numpy arrays. If we want to pass it as a pointer, we would need to make sure that the memory layout of CyRSoXS is compatible with VoxelData in python. (Future work)\n",
    "\n",
    "Remark 2: You are allowed to provide the entry to the material only one time. If you have provided multiple times. Then it will not add the entry and would return a WARNING. You can call `reset` to overcome this and add the entries from scratch."
   ]
  },
  {
   "cell_type": "code",
   "execution_count": null,
   "metadata": {},
   "outputs": [],
   "source": [
    "f = h5py.File('edgeSphereZYX.h5', 'r')\n",
    "morph = f['Vector_Morphology']"
   ]
  },
  {
   "cell_type": "code",
   "execution_count": null,
   "metadata": {},
   "outputs": [],
   "source": [
    "#Note to cast the input into the required shape. For single bit computation use np.single.\n",
    "# Otherwise pybind will create a copy of memory while transferring the data to Cy-RSoXS\n",
    "Mat_1_alignment = (morph['Mat_1_alignment'][()]).astype(np.single)\n",
    "Mat_2_alignment = (morph['Mat_2_alignment'][()]).astype(np.single)\n",
    "Mat_1_unaligned = (morph['Mat_1_unaligned'][()]).astype(np.single)\n",
    "Mat_2_unaligned = (morph['Mat_2_unaligned'][()]).astype(np.single)"
   ]
  },
  {
   "cell_type": "code",
   "execution_count": null,
   "metadata": {},
   "outputs": [],
   "source": [
    "f.close() # Close the file"
   ]
  },
  {
   "cell_type": "code",
   "execution_count": null,
   "metadata": {},
   "outputs": [],
   "source": []
  },
  {
   "cell_type": "code",
   "execution_count": null,
   "metadata": {},
   "outputs": [],
   "source": [
    "voxelData.reset() # Just to reset. \n",
    "#Note that you can specify only one way to allocate either through HDF5 file or numpy array. Not a combined way\n",
    "voxelData.addVoxelData(AlignedData=Mat_1_alignment,UnalignedData=Mat_1_unaligned,MaterialID=1)\n",
    "voxelData.addVoxelData(AlignedData=Mat_2_alignment,UnalignedData=Mat_2_unaligned,MaterialID=2)\n",
    "# # voxelData.addVoxelData(Mat_2_alignment,Mat_2_unaligned,1)\n",
    "voxelData.writeToH5()"
   ]
  },
  {
   "cell_type": "code",
   "execution_count": null,
   "metadata": {},
   "outputs": [],
   "source": [
    "voxelData.validate()"
   ]
  },
  {
   "cell_type": "markdown",
   "metadata": {},
   "source": [
    "# Step 4: Scattering Pattern "
   ]
  },
  {
   "cell_type": "markdown",
   "metadata": {},
   "source": [
    "- Allocate the memory to store scattering pattern. \n"
   ]
  },
  {
   "cell_type": "code",
   "execution_count": null,
   "metadata": {},
   "outputs": [],
   "source": [
    "scatteringPattern = cy.ScatteringPattern(inputData)"
   ]
  },
  {
   "cell_type": "markdown",
   "metadata": {},
   "source": [
    "# Step 5: Lauch the GPU code"
   ]
  },
  {
   "cell_type": "code",
   "execution_count": null,
   "metadata": {},
   "outputs": [],
   "source": [
    "%%time\n",
    "with cy.ostream_redirect(stdout=True, stderr=True): # Redirects the std::cout output to Python console\n",
    "    cy.launch(VoxelData = voxelData,RefractiveIndexData = refractiveIndex,InputData = inputData,ScatteringPattern=scatteringPattern)\n"
   ]
  },
  {
   "cell_type": "markdown",
   "metadata": {},
   "source": [
    "# Step 6: Output\n",
    "\n",
    "There are three ways to output the scattering pattern:\n",
    "\n",
    "- Pass through numpy array\n",
    "- Dump to HDF5 file \n",
    "\n",
    "In order to get the values as numpy array, you need two informations:\n",
    "- Energy: Energy Values\n",
    "- kID: id of k Vectors. kVector ID is the same order in which you provided the information in inputData.\n",
    "- kID = 0 for the Default case"
   ]
  },
  {
   "cell_type": "code",
   "execution_count": null,
   "metadata": {},
   "outputs": [],
   "source": [
    "pattern280 = scatteringPattern.dataToNumpy(280.0,0) # returns Numpy array for that energy. Error if the energy is not found\n",
    "pattern281 = scatteringPattern.dataToNumpy(Energy=281,kID=0)\n",
    "pattern281_5 = scatteringPattern.dataToNumpy(Energy=281.5,kID = 0)"
   ]
  },
  {
   "cell_type": "code",
   "execution_count": null,
   "metadata": {},
   "outputs": [],
   "source": [
    "import matplotlib.pyplot as plt\n",
    "plt.imshow(np.log(pattern280))"
   ]
  },
  {
   "cell_type": "code",
   "execution_count": null,
   "metadata": {},
   "outputs": [],
   "source": [
    "scatteringPattern.writeToHDF5(\"testH5\")"
   ]
  },
  {
   "cell_type": "code",
   "execution_count": null,
   "metadata": {},
   "outputs": [],
   "source": [
    "plt.imshow(np.log(pattern281_5))"
   ]
  },
  {
   "cell_type": "markdown",
   "metadata": {},
   "source": [
    "# Step 7: Cleanup"
   ]
  },
  {
   "cell_type": "markdown",
   "metadata": {},
   "source": [
    "You can cleanup individually or all at once."
   ]
  },
  {
   "cell_type": "code",
   "execution_count": null,
   "metadata": {},
   "outputs": [],
   "source": [
    "#Clearing individually\n",
    "voxelData.clear()\n",
    "scatteringPattern.clear()\n",
    "refractiveIndex.clear()"
   ]
  },
  {
   "cell_type": "code",
   "execution_count": null,
   "metadata": {},
   "outputs": [],
   "source": [
    "cy.cleanup(VoxelData = voxelData,ScatteringPattern = scatteringPattern,RefractiveIndex = refractiveIndex)"
   ]
  },
  {
   "cell_type": "code",
   "execution_count": null,
   "metadata": {},
   "outputs": [],
   "source": []
  }
 ],
 "metadata": {
  "kernelspec": {
   "display_name": "Python 3",
   "language": "python",
   "name": "python3"
  },
  "language_info": {
   "codemirror_mode": {
    "name": "ipython",
    "version": 3
   },
   "file_extension": ".py",
   "mimetype": "text/x-python",
   "name": "python",
   "nbconvert_exporter": "python",
   "pygments_lexer": "ipython3",
   "version": "3.8.10"
  }
 },
 "nbformat": 4,
 "nbformat_minor": 4
}
